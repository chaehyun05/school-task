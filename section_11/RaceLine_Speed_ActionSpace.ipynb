{
  "cells": [
    {
      "cell_type": "markdown",
      "source": [
        "- 작성자 : ai-castle (에이아이캐슬, https://ai-castle.com)\n",
        "- 본 문서는 [ai-castle](https://ai-castle.com)이 DeepRacer 강의를 위해 원본 [RaceLine_Speed_ActionSpace](https://github.com/dgnzlz/Capstone_AWS_DeepRacer/tree/master/Compute_Speed_And_Actions)을 쉽게 사용할 수 있도록 일부 수정 및 재구성한 문서입니다.\n",
        "\n",
        "- Track Information\n",
        "<https://github.com/aws-deepracer-community/deepracer-race-data/tree/main/raw_data/tracks>"
      ],
      "metadata": {
        "id": "_RGR-jn4H7fg"
      }
    },
    {
      "cell_type": "code",
      "source": [
        "npy_name = \"2024_reinvent_champ_ccw.npy\"\n",
        "\n",
        "LOOK_AHEAD_POINTS = 5\n",
        "MIN_SPEED = 1.3\n",
        "MAX_SPEED = 4\n",
        "\n",
        "# Number of times to iterate each new race line point\n",
        "# keep this at 3-8 for best balance of performance and desired result\n",
        "XI_ITERATIONS=8 # default 4\n",
        "\n",
        "# Number of times to scan the entire race track to iterate\n",
        "# 500 will get a good start, 1500 will be closer to optimal result\n",
        "LINE_ITERATIONS=500 # default 1000"
      ],
      "metadata": {
        "id": "3LMf5MacMNmB"
      },
      "execution_count": 1,
      "outputs": []
    },
    {
      "cell_type": "code",
      "source": [
        "!git clone https://github.com/aws-deepracer-community/deepracer-race-data.git"
      ],
      "metadata": {
        "colab": {
          "base_uri": "https://localhost:8080/"
        },
        "id": "ROvRfShGH3-R",
        "outputId": "b8e1459c-f84c-441c-a8ba-056c11c050fd"
      },
      "execution_count": null,
      "outputs": [
        {
          "output_type": "stream",
          "name": "stdout",
          "text": [
            "Cloning into 'deepracer-race-data'...\n",
            "remote: Enumerating objects: 603983, done.\u001b[K\n",
            "remote: Counting objects: 100% (582/582), done.\u001b[K\n",
            "remote: Compressing objects: 100% (386/386), done.\u001b[K\n",
            "remote: Total 603983 (delta 388), reused 360 (delta 196), pack-reused 603401 (from 4)\u001b[K\n",
            "Receiving objects: 100% (603983/603983), 345.83 MiB | 11.27 MiB/s, done.\n"
          ]
        }
      ]
    },
    {
      "cell_type": "code",
      "source": [
        "import os\n",
        "\n",
        "npy_folder_path = \"deepracer-race-data/raw_data/tracks/npy\"\n",
        "TRACK_NAME = npy_name.split('.')[0]\n",
        "numpy_file_path = os.path.join(npy_folder_path, npy_name)"
      ],
      "metadata": {
        "id": "78ZX88kSWRlo"
      },
      "execution_count": null,
      "outputs": []
    },
    {
      "cell_type": "markdown",
      "source": [
        "---"
      ],
      "metadata": {
        "id": "pRER3qfMeTKD"
      }
    },
    {
      "cell_type": "markdown",
      "source": [
        "# [1] Race-Line-Calculation.ipynb"
      ],
      "metadata": {
        "id": "2vx9LEajUx5Y"
      }
    },
    {
      "cell_type": "markdown",
      "metadata": {
        "id": "CPz-qItAUMks"
      },
      "source": [
        "## Racing Line Calculation Worksheet\n",
        "\n",
        "Inspired by the paper [Reinforcement Learning Using Neural Networks, with Applications to Motor Control\n",
        "](https://www.remi-coulom.fr/Publications/Thesis.pdf), which is referenced by a number of machine learning articles, we calculate a race line around a simple race track.\n",
        "\n",
        "#### New notebook\n",
        "\n",
        "This notebook was forked from [this](https://github.com/cdthompson/deepracer-k1999-race-lines/blob/master/Race-Line-Calculation.ipynb) notebook by cdthompson.\n",
        "\n",
        "This repo only contains the new notebook, not the entire directory. So make sure to download the entire directory from cdthompson's repo."
      ]
    },
    {
      "cell_type": "code",
      "execution_count": null,
      "metadata": {
        "id": "-wrPikWEUMkx"
      },
      "outputs": [],
      "source": [
        "import glob\n",
        "import numpy as np\n",
        "from shapely.geometry import Point, Polygon\n",
        "from shapely.geometry.polygon import LinearRing, LineString\n",
        "import pandas as pd\n",
        "import matplotlib.pyplot as plt\n",
        "import os.path"
      ]
    },
    {
      "cell_type": "markdown",
      "metadata": {
        "id": "vnBjsaASUMkz"
      },
      "source": [
        "### Load the track to analyze"
      ]
    },
    {
      "cell_type": "code",
      "execution_count": null,
      "metadata": {
        "scrolled": true,
        "id": "gx_SLNyQUMk0"
      },
      "outputs": [],
      "source": [
        "# # Conveniently list available tracks to analyze\n",
        "# available_track_files = glob.glob(\"./tracks/**.npy\")\n",
        "# available_track_names = list(map(lambda x: os.path.basename(x).split('.npy')[0], available_track_files))\n",
        "# available_track_names"
      ]
    },
    {
      "cell_type": "code",
      "execution_count": null,
      "metadata": {
        "id": "ypvavYFnUMk1"
      },
      "outputs": [],
      "source": [
        "# Load the center, inner, outer waypoints\n",
        "waypoints = np.load(numpy_file_path)\n",
        "\n",
        "# Convert to Shapely objects\n",
        "center_line = waypoints[:,0:2]\n",
        "inner_border = waypoints[:,2:4]\n",
        "outer_border = waypoints[:,4:6]\n",
        "l_center_line = LineString(center_line)\n",
        "l_inner_border = LineString(inner_border)\n",
        "l_outer_border = LineString(outer_border)\n",
        "road_poly = Polygon(np.vstack((outer_border, np.flipud(inner_border))))\n",
        "print(\"Is loop/ring? \", l_center_line.is_ring)\n",
        "road_poly"
      ]
    },
    {
      "cell_type": "code",
      "execution_count": null,
      "metadata": {
        "id": "m_r1vBlIUMk2"
      },
      "outputs": [],
      "source": [
        "# Own code: Reduce width of track\n",
        "\n",
        "def dist_2_points(x1, x2, y1, y2):\n",
        "        return abs(abs(x1-x2)**2 + abs(y1-y2)**2)**0.5\n",
        "\n",
        "def x_perc_width(waypoint, perc_width):\n",
        "\n",
        "    center_x, center_y, inner_x, inner_y, outer_x, outer_y = waypoint\n",
        "\n",
        "    width = dist_2_points(inner_x, outer_x, inner_y, outer_y)\n",
        "\n",
        "    delta_x = outer_x-inner_x\n",
        "    delta_y = outer_y-inner_y\n",
        "\n",
        "    inner_x_new = inner_x + delta_x/2 * (1-perc_width)\n",
        "    outer_x_new = outer_x - delta_x/2 * (1-perc_width)\n",
        "    inner_y_new = inner_y + delta_y/2 * (1-perc_width)\n",
        "    outer_y_new = outer_y - delta_y/2 * (1-perc_width)\n",
        "\n",
        "    return [center_x, center_y, inner_x_new, inner_y_new, outer_x_new, outer_y_new]\n",
        "\n",
        "PERC_WIDTH = 0.8\n",
        "waypoints_new = [x_perc_width(waypoint, perc_width=PERC_WIDTH) for waypoint in waypoints]\n",
        "waypoints_new = np.asarray(waypoints_new)\n",
        "\n",
        "# Convert to Shapely objects\n",
        "inner_border_new = waypoints_new[:,2:4]\n",
        "outer_border_new = waypoints_new[:,4:6]\n",
        "l_inner_border_new = LineString(inner_border_new)\n",
        "l_outer_border_new = LineString(outer_border_new)\n",
        "road_poly_new = Polygon(np.vstack((outer_border_new, np.flipud(inner_border_new))))\n",
        "print(\"Is loop/ring? \", l_center_line.is_ring)\n",
        "road_poly_new"
      ]
    },
    {
      "cell_type": "markdown",
      "metadata": {
        "id": "eRJLNTqlUMk3"
      },
      "source": [
        "## Display the original track waypoints"
      ]
    },
    {
      "cell_type": "code",
      "execution_count": null,
      "metadata": {
        "scrolled": false,
        "id": "5dKvUBM7UMk4"
      },
      "outputs": [],
      "source": [
        "def plot_coords(ax, ob):\n",
        "    x, y = ob.xy\n",
        "    ax.plot(x, y, '.', color='#999999', zorder=1)\n",
        "\n",
        "def plot_bounds(ax, ob):\n",
        "    x, y = zip(*list((p.x, p.y) for p in ob.boundary))\n",
        "    ax.plot(x, y, '.', color='#000000', zorder=1)\n",
        "\n",
        "def plot_line(ax, ob):\n",
        "    x, y = ob.xy\n",
        "    ax.plot(x, y, color='cyan', alpha=0.7, linewidth=3, solid_capstyle='round', zorder=2)\n",
        "\n",
        "def print_border(ax, waypoints, inner_border_waypoints, outer_border_waypoints):\n",
        "    line = LineString(waypoints)\n",
        "    plot_coords(ax, line)\n",
        "    plot_line(ax, line)\n",
        "\n",
        "    line = LineString(inner_border_waypoints)\n",
        "    plot_coords(ax, line)\n",
        "    plot_line(ax, line)\n",
        "\n",
        "    line = LineString(outer_border_waypoints)\n",
        "    plot_coords(ax, line)\n",
        "    plot_line(ax, line)\n",
        "\n",
        "fig = plt.figure(1, figsize=(16, 10))\n",
        "ax = fig.add_subplot(111, facecolor='black')\n",
        "plt.axis('equal')\n",
        "print_border(ax, center_line, inner_border, outer_border)\n",
        "\n",
        "# Also print new border\n",
        "print_border(ax, center_line, inner_border_new, outer_border_new)\n"
      ]
    },
    {
      "cell_type": "code",
      "execution_count": null,
      "metadata": {
        "id": "HWnJ8E7OUMk5"
      },
      "outputs": [],
      "source": [
        "# From https://github.com/e-koch/ewky_scripts/blob/master/curvature.py\n",
        "\n",
        "# The MIT License (MIT)\n",
        "#\n",
        "# Copyright (c) 2014 Eric Koch\n",
        "#\n",
        "# Permission is hereby granted, free of charge, to any person obtaining a copy\n",
        "# of this software and associated documentation files (the \"Software\"), to deal\n",
        "# in the Software without restriction, including without limitation the rights\n",
        "# to use, copy, modify, merge, publish, distribute, sublicense, and/or sell\n",
        "# copies of the Software, and to permit persons to whom the Software is\n",
        "# furnished to do so, subject to the following conditions:\n",
        "\n",
        "# The above copyright notice and this permission notice shall be included in all\n",
        "# copies or substantial portions of the Software.\n",
        "\n",
        "# THE SOFTWARE IS PROVIDED \"AS IS\", WITHOUT WARRANTY OF ANY KIND, EXPRESS OR\n",
        "# IMPLIED, INCLUDING BUT NOT LIMITED TO THE WARRANTIES OF MERCHANTABILITY,\n",
        "# FITNESS FOR A PARTICULAR PURPOSE AND NONINFRINGEMENT. IN NO EVENT SHALL THE\n",
        "# AUTHORS OR COPYRIGHT HOLDERS BE LIABLE FOR ANY CLAIM, DAMAGES OR OTHER\n",
        "# LIABILITY, WHETHER IN AN ACTION OF CONTRACT, TORT OR OTHERWISE, ARISING FROM,\n",
        "# OUT OF OR IN CONNECTION WITH THE SOFTWARE OR THE USE OR OTHER DEALINGS IN THE\n",
        "# SOFTWARE.\n",
        "\n",
        "def menger_curvature(pt1, pt2, pt3, atol=1e-3):\n",
        "\n",
        "    vec21 = np.array([pt1[0]-pt2[0], pt1[1]-pt2[1]])\n",
        "    vec23 = np.array([pt3[0]-pt2[0], pt3[1]-pt2[1]])\n",
        "\n",
        "    norm21 = np.linalg.norm(vec21)\n",
        "    norm23 = np.linalg.norm(vec23)\n",
        "\n",
        "    theta = np.arccos(np.dot(vec21, vec23)/(norm21*norm23))\n",
        "    if np.isclose(theta-np.pi, 0.0, atol=atol):\n",
        "        theta = 0.0\n",
        "\n",
        "    dist13 = np.linalg.norm(vec21-vec23)\n",
        "\n",
        "    return 2*np.sin(theta) / dist13"
      ]
    },
    {
      "cell_type": "code",
      "execution_count": null,
      "metadata": {
        "scrolled": true,
        "id": "tM0NYVhvUMk6"
      },
      "outputs": [],
      "source": [
        "import copy\n",
        "from shapely.geometry import Point, Polygon\n",
        "from shapely.geometry.polygon import LinearRing, LineString\n",
        "\n",
        "def improve_race_line(old_line, inner_border, outer_border):\n",
        "    '''Use gradient descent, inspired by K1999, to find the racing line'''\n",
        "    # start with the center line\n",
        "    new_line = copy.deepcopy(old_line)\n",
        "    ls_inner_border = Polygon(inner_border)\n",
        "    ls_outer_border = Polygon(outer_border)\n",
        "    for i in range(0,len(new_line)):\n",
        "        xi = new_line[i]\n",
        "        npoints = len(new_line)\n",
        "        prevprev = (i - 2 + npoints) % npoints\n",
        "        prev = (i - 1 + npoints) % npoints\n",
        "        nexxt = (i + 1 + npoints) % npoints\n",
        "        nexxtnexxt = (i + 2 + npoints) % npoints\n",
        "        #print(\"%d: %d %d %d %d %d\" % (npoints, prevprev, prev, i, nexxt, nexxtnexxt))\n",
        "        ci = menger_curvature(new_line[prev], xi, new_line[nexxt])\n",
        "        c1 = menger_curvature(new_line[prevprev], new_line[prev], xi)\n",
        "        c2 = menger_curvature(xi, new_line[nexxt], new_line[nexxtnexxt])\n",
        "        target_ci = (c1 + c2) / 2\n",
        "        #print(\"i %d ci %f target_ci %f c1 %f c2 %f\" % (i, ci, target_ci, c1, c2))\n",
        "\n",
        "        # Calculate prospective new track position, start at half-way (curvature zero)\n",
        "        xi_bound1 = copy.deepcopy(xi)\n",
        "        xi_bound2 = ((new_line[nexxt][0] + new_line[prev][0]) / 2.0, (new_line[nexxt][1] + new_line[prev][1]) / 2.0)\n",
        "        p_xi = copy.deepcopy(xi)\n",
        "        for j in range(0,XI_ITERATIONS):\n",
        "            p_ci = menger_curvature(new_line[prev], p_xi, new_line[nexxt])\n",
        "            #print(\"i: {} iter {} p_ci {} p_xi {} b1 {} b2 {}\".format(i,j,p_ci,p_xi,xi_bound1, xi_bound2))\n",
        "            if np.isclose(p_ci, target_ci):\n",
        "                break\n",
        "            if p_ci < target_ci:\n",
        "                # too flat, shrinking track too much\n",
        "                xi_bound2 = copy.deepcopy(p_xi)\n",
        "                new_p_xi = ((xi_bound1[0] + p_xi[0]) / 2.0, (xi_bound1[1] + p_xi[1]) / 2.0)\n",
        "                if Point(new_p_xi).within(ls_inner_border) or not Point(new_p_xi).within(ls_outer_border):\n",
        "                    xi_bound1 = copy.deepcopy(new_p_xi)\n",
        "                else:\n",
        "                    p_xi = new_p_xi\n",
        "            else:\n",
        "                # too curved, flatten it out\n",
        "                xi_bound1 = copy.deepcopy(p_xi)\n",
        "                new_p_xi = ((xi_bound2[0] + p_xi[0]) / 2.0, (xi_bound2[1] + p_xi[1]) / 2.0)\n",
        "\n",
        "                # If iteration pushes the point beyond the border of the track,\n",
        "                # just abandon the refinement at this point.  As adjacent\n",
        "                # points are adjusted within the track the point should gradually\n",
        "                # make its way to a new position.  A better way would be to use\n",
        "                # a projection of the point on the border as the new bound.  Later.\n",
        "                if Point(new_p_xi).within(ls_inner_border) or not Point(new_p_xi).within(ls_outer_border):\n",
        "                    xi_bound2 = copy.deepcopy(new_p_xi)\n",
        "                else:\n",
        "                    p_xi = new_p_xi\n",
        "        new_xi = p_xi\n",
        "        # New point which has mid-curvature of prev and next points but may be outside of track\n",
        "        #print((new_line[i], new_xi))\n",
        "        new_line[i] = new_xi\n",
        "    return new_line"
      ]
    },
    {
      "cell_type": "markdown",
      "metadata": {
        "id": "0qYUsn1_UMk7"
      },
      "source": [
        "### Calculate the race line!"
      ]
    },
    {
      "cell_type": "code",
      "execution_count": null,
      "metadata": {
        "id": "h_80PIbuUMk8"
      },
      "outputs": [],
      "source": [
        "print(len(center_line))\n",
        "# start along centerline of track\n",
        "race_line = copy.deepcopy(center_line[:-1])  # Use this for centerline being outer bound\n",
        "for i in range(LINE_ITERATIONS):\n",
        "    race_line = improve_race_line(race_line, inner_border_new, outer_border_new)  # Remove \"_new\" for entire track width\n",
        "    if i % 20 == 0: print(\"Iteration %d\" % i, end=\"\\r\", flush=True)"
      ]
    },
    {
      "cell_type": "code",
      "execution_count": null,
      "metadata": {
        "scrolled": false,
        "id": "sRX-pTZGUMk8"
      },
      "outputs": [],
      "source": [
        "# need to put duplicate point race_line[0] at race_line[-1] to make a closed loops\n",
        "loop_race_line = np.append(race_line, [race_line[0]], axis=0)\n",
        "\n",
        "# These should be the same\n",
        "print(\"These should be the same: \", (center_line.shape, loop_race_line.shape))\n",
        "print(\"Original centerline length: %0.2f\" % l_center_line.length)\n",
        "print(\"New race line length: %0.2f\" % LineString(loop_race_line).length)\n",
        "\n",
        "fig = plt.figure(1, figsize=(16, 10))\n",
        "ax = fig.add_subplot(111, facecolor='black')\n",
        "plt.axis('equal')\n",
        "print_border(ax, loop_race_line, inner_border, outer_border)\n",
        "\n",
        "# Also print new border\n",
        "#print_border(ax, loop_race_line, inner_border_new, outer_border_new)"
      ]
    },
    {
      "cell_type": "markdown",
      "metadata": {
        "id": "em2TYVxNUMk9"
      },
      "source": [
        "### Save the raceline as:\n",
        "\n",
        "1. Binary numpy array for loading from a file\n",
        "2. Text numpy array for pasting directly into a reward function"
      ]
    },
    {
      "cell_type": "code",
      "execution_count": null,
      "metadata": {
        "id": "OGcWouwqUMk9"
      },
      "outputs": [],
      "source": [
        "from datetime import datetime\n",
        "\n",
        "now = datetime.now()\n",
        "prefix = TRACK_NAME + '-raceline'\n",
        "py_fname = prefix + '.py'\n",
        "npy_fname = prefix + '.npy'\n",
        "with open(py_fname, \"w\") as file:\n",
        "    print(\"Writing python code to %s\" % py_fname)\n",
        "    file.write(np.array_repr(loop_race_line))\n",
        "\n",
        "print(\"Writing numpy binary to %s\" % npy_fname)\n",
        "np.save(npy_fname, loop_race_line)"
      ]
    },
    {
      "cell_type": "markdown",
      "metadata": {
        "id": "YldepTmBUMk9"
      },
      "source": [
        "## Load and visualize a stored track file"
      ]
    },
    {
      "cell_type": "code",
      "execution_count": null,
      "metadata": {
        "scrolled": false,
        "id": "rNi0nlLNUMk-"
      },
      "outputs": [],
      "source": [
        "# from numpy import array\n",
        "\n",
        "# with open(py_fname, \"r\") as file:\n",
        "#     deserialized = eval(file.read())\n",
        "# deserialized\n",
        "# fig = plt.figure(1, figsize=(16, 10))\n",
        "# ax = fig.add_subplot(111, facecolor='black')\n",
        "# plt.axis('equal')\n",
        "# print_border(ax, deserialized, inner_border, outer_border)"
      ]
    },
    {
      "cell_type": "markdown",
      "source": [
        "# [2] RaceLine_Speed_ActionSpace.ipynb\n"
      ],
      "metadata": {
        "id": "7Pae1kS8VWOK"
      }
    },
    {
      "cell_type": "markdown",
      "metadata": {
        "id": "4tnMgBAxF9c8"
      },
      "source": [
        "## INSTRUCTIONS\n",
        "#### Part 1: Computing the optimal speed from the optimal racing line\n",
        "- Part 1 of this notebook takes the optimal racing line, which can be generated with Race-Line-Calculation.ipynb ([GitHub](https://github.com/cdthompson/deepracer-k1999-race-lines)), and generates the optimal speed for each point on the racing line\n",
        "- Input: .py file with 2D array containing optimal racing line: 2 columns (x,y)\n",
        "- Output: .py file with 2D array: 4 columns (x,y,speed,expected time). This array can be inserted into the reward function\n",
        "- Note: The last point of the racing line is deleted because it is the same point as the first one\n",
        "\n",
        "#### Part 2: Computing the Action Space\n",
        "- Part 2 of this notebook takes the optimal racing line and speed, and uses K-Means with Gaussian Noise infused data, to calculate the action space"
      ]
    },
    {
      "cell_type": "code",
      "execution_count": null,
      "metadata": {
        "id": "0eIGMkV-F9dC"
      },
      "outputs": [],
      "source": [
        "%matplotlib inline\n",
        "\n",
        "import numpy as np\n",
        "import pandas as pd\n",
        "from scipy import stats\n",
        "import math\n",
        "import os\n",
        "\n",
        "# Ignore deprecation warnings we have no power over\n",
        "import warnings\n",
        "warnings.filterwarnings('ignore')"
      ]
    },
    {
      "cell_type": "code",
      "execution_count": null,
      "metadata": {
        "id": "3MNlwbVlF9dE"
      },
      "outputs": [],
      "source": [
        "# Path of the optimal racing line (.npy file)\n",
        "\n",
        "# npy_name = \"Spain_track.npy\"\n",
        "\n",
        "# TRACK_NAME = npy_name.split('.')[0]\n",
        "# numpy_file_path = os.path.join(npy_folder_path, npy_name)\n",
        "\n",
        "racing_track = np.load(npy_fname)\n",
        "\n",
        "# Convert np array to list and remove last point because it is the same point as the first one\n",
        "racing_track = racing_track.tolist()[:-1]"
      ]
    },
    {
      "cell_type": "markdown",
      "metadata": {
        "id": "oCG31WvwF9dF"
      },
      "source": [
        "## Helper functions for Part 1 and Part 2"
      ]
    },
    {
      "cell_type": "code",
      "execution_count": null,
      "metadata": {
        "id": "5WjlkMZ_F9dG"
      },
      "outputs": [],
      "source": [
        "# Uses previous and next coords to calculate the radius of the curve\n",
        "# so you need to pass a list with form [[x1,y1],[x2,y2],[x3,y3]]\n",
        "# Input 3 coords [[x1,y1],[x2,y2],[x3,y3]]\n",
        "def circle_radius(coords):\n",
        "\n",
        "    # Flatten the list and assign to variables (makes code easier to read later)\n",
        "    x1, y1, x2, y2, x3, y3 = [i for sub in coords for i in sub]\n",
        "\n",
        "    a = x1*(y2-y3) - y1*(x2-x3) + x2*y3 - x3*y2\n",
        "    b = (x1**2+y1**2)*(y3-y2) + (x2**2+y2**2)*(y1-y3) + (x3**2+y3**2)*(y2-y1)\n",
        "    c = (x1**2+y1**2)*(x2-x3) + (x2**2+y2**2)*(x3-x1) + (x3**2+y3**2)*(x1-x2)\n",
        "    d = (x1**2+y1**2)*(x3*y2-x2*y3) + (x2**2+y2**2) * \\\n",
        "        (x1*y3-x3*y1) + (x3**2+y3**2)*(x2*y1-x1*y2)\n",
        "\n",
        "    # In case a is zero (so radius is infinity)\n",
        "    try:\n",
        "        r = abs((b**2+c**2-4*a*d) / abs(4*a**2)) ** 0.5\n",
        "    except:\n",
        "        r = 999\n",
        "\n",
        "    return r\n",
        "\n",
        "\n",
        "# Returns indexes of next index and index+lookfront\n",
        "# We need this to calculate the radius for next track section.\n",
        "def circle_indexes(mylist, index_car, add_index_1=0, add_index_2=0):\n",
        "\n",
        "    list_len = len(mylist)\n",
        "\n",
        "    # if index >= list_len:\n",
        "    #     raise ValueError(\"Index out of range in circle_indexes()\")\n",
        "\n",
        "    # Use modulo to consider that track is cyclical\n",
        "    index_1 = (index_car + add_index_1) % list_len\n",
        "    index_2 = (index_car + add_index_2) % list_len\n",
        "\n",
        "    return [index_car, index_1, index_2]\n",
        "\n",
        "\n",
        "def optimal_velocity(track, min_speed, max_speed, look_ahead_points):\n",
        "\n",
        "    # Calculate the radius for every point of the track\n",
        "    radius = []\n",
        "    for i in range(len(track)):\n",
        "        indexes = circle_indexes(track, i, add_index_1=-1, add_index_2=1)\n",
        "        coords = [track[indexes[0]],\n",
        "                  track[indexes[1]], track[indexes[2]]]\n",
        "        radius.append(circle_radius(coords))\n",
        "\n",
        "    # Get the max_velocity for the smallest radius\n",
        "    # That value should multiplied by a constant multiple\n",
        "    v_min_r = min(radius)**0.5\n",
        "    constant_multiple = min_speed / v_min_r\n",
        "    print(f\"Constant multiple for optimal speed: {constant_multiple}\")\n",
        "\n",
        "    if look_ahead_points == 0:\n",
        "        # Get the maximal velocity from radius\n",
        "        max_velocity = [(constant_multiple * i**0.5) for i in radius]\n",
        "        # Get velocity from max_velocity (cap at MAX_SPEED)\n",
        "        velocity = [min(v, max_speed) for v in max_velocity]\n",
        "        return velocity\n",
        "\n",
        "    else:\n",
        "        # Looks at the next n radii of points and takes the minimum\n",
        "        # goal: reduce lookahead until car crashes bc no time to break\n",
        "        LOOK_AHEAD_POINTS = look_ahead_points\n",
        "        radius_lookahead = []\n",
        "        for i in range(len(radius)):\n",
        "            next_n_radius = []\n",
        "            for j in range(LOOK_AHEAD_POINTS+1):\n",
        "                index = circle_indexes(\n",
        "                    mylist=radius, index_car=i, add_index_1=j)[1]\n",
        "                next_n_radius.append(radius[index])\n",
        "            radius_lookahead.append(min(next_n_radius))\n",
        "        max_velocity_lookahead = [(constant_multiple * i**0.5)\n",
        "                                  for i in radius_lookahead]\n",
        "        velocity_lookahead = [min(v, max_speed)\n",
        "                              for v in max_velocity_lookahead]\n",
        "        return velocity_lookahead\n",
        "\n",
        "\n",
        "# For each point in racing track, check if left curve (returns boolean)\n",
        "def is_left_curve(coords):\n",
        "\n",
        "    # Flatten the list and assign to variables (makes code easier to read later)\n",
        "    x1, y1, x2, y2, x3, y3 = [i for sub in coords for i in sub]\n",
        "\n",
        "    return ((x2-x1)*(y3-y1) - (y2-y1)*(x3-x1)) > 0\n",
        "\n",
        "\n",
        "# Calculate the distance between 2 points\n",
        "def dist_2_points(x1, x2, y1, y2):\n",
        "        return abs(abs(x1-x2)**2 + abs(y1-y2)**2)**0.5"
      ]
    },
    {
      "cell_type": "markdown",
      "metadata": {
        "id": "xYVS1hHkF9dH"
      },
      "source": [
        "## Part 1: Calculate optimal speed\n",
        "\n",
        "- Change ```LOOK_AHEAD_POINTS``` to influence how many points the algorithm looks ahead (the higher, the sooner the car will start to break)\n",
        "- Change ```MIN_SPEED``` and ```MAX_SPEED``` to fit the track and model !"
      ]
    },
    {
      "cell_type": "code",
      "execution_count": null,
      "metadata": {
        "id": "vq9ly6dsF9dH"
      },
      "outputs": [],
      "source": [
        "# LOOK_AHEAD_POINTS = 5\n",
        "# MIN_SPEED = 1.3\n",
        "# MAX_SPEED = 4\n",
        "\n",
        "# Calculate optimal speed\n",
        "velocity = optimal_velocity(track=racing_track,\n",
        "    min_speed=MIN_SPEED, max_speed=MAX_SPEED, look_ahead_points=LOOK_AHEAD_POINTS)"
      ]
    },
    {
      "cell_type": "markdown",
      "metadata": {
        "id": "bSXOImV9F9dJ"
      },
      "source": [
        "#### Visualization"
      ]
    },
    {
      "cell_type": "code",
      "execution_count": null,
      "metadata": {
        "id": "potQvgmGF9dK"
      },
      "outputs": [],
      "source": [
        "from matplotlib import pyplot as plt\n",
        "import seaborn as sns\n",
        "\n",
        "x = [i[0] for i in racing_track]\n",
        "y = [i[1] for i in racing_track]\n",
        "\n",
        "# Without lookahead\n",
        "velocity_no_lookahead = optimal_velocity(track=racing_track,\n",
        "    min_speed=MIN_SPEED, max_speed=MAX_SPEED, look_ahead_points=0)\n",
        "\n",
        "fig, ax = plt.subplots(figsize=(8, 5))\n",
        "ax = sns.scatterplot(x=x, y=y, hue=velocity_no_lookahead,\n",
        "                     palette=\"vlag\").set_title(\"Without lookahead\")\n",
        "\n",
        "fig, ax = plt.subplots(figsize=(8, 5))\n",
        "ax = sns.scatterplot(x=x, y=y, hue=velocity, palette=\"vlag\").set_title(\n",
        "    f\"With lookahead: {LOOK_AHEAD_POINTS}\")"
      ]
    },
    {
      "cell_type": "markdown",
      "metadata": {
        "id": "_FNyx7zEF9dL"
      },
      "source": [
        "#### Calculate distance and optimal time between each racing point"
      ]
    },
    {
      "cell_type": "code",
      "execution_count": null,
      "metadata": {
        "id": "vQ2RzncuF9dL"
      },
      "outputs": [],
      "source": [
        "distance_to_prev = []\n",
        "for i in range(len(racing_track)):\n",
        "    indexes = circle_indexes(racing_track, i, add_index_1=-1, add_index_2=0)[0:2]\n",
        "    coords = [racing_track[indexes[0]],racing_track[indexes[1]]]\n",
        "    dist_to_prev = dist_2_points(x1=coords[0][0], x2=coords[1][0], y1=coords[0][1], y2=coords[1][1])\n",
        "    distance_to_prev.append(dist_to_prev)\n",
        "\n",
        "time_to_prev = [(distance_to_prev[i]/velocity[i]) for i in range(len(racing_track))]\n",
        "\n",
        "total_time = sum(time_to_prev)\n",
        "print(f\"Total time for track, if racing line and speeds are followed perfectly: {total_time} s\")"
      ]
    },
    {
      "cell_type": "markdown",
      "metadata": {
        "id": "2AJ46HqOF9dM"
      },
      "source": [
        "### Append everything together and save to .txt file"
      ]
    },
    {
      "cell_type": "code",
      "execution_count": null,
      "metadata": {
        "id": "ZBNlBgXRF9dM"
      },
      "outputs": [],
      "source": [
        "# Now we have list with columns (x,y,speed,distance,time)\n",
        "racing_track_everything = []\n",
        "for i in range(len(racing_track)):\n",
        "    racing_track_everything.append([racing_track[i][0],\n",
        "                                    racing_track[i][1],\n",
        "                                    velocity[i],\n",
        "                                    time_to_prev[i]])\n",
        "# Round to 5 decimals\n",
        "racing_track_everything = np.around(racing_track_everything, 5).tolist()"
      ]
    },
    {
      "cell_type": "code",
      "execution_count": null,
      "metadata": {
        "id": "L4_gRd3dF9dM"
      },
      "outputs": [],
      "source": [
        "# Write to txt file\n",
        "with open(f'optimals_newest_{TRACK_NAME}.txt', 'w') as f:\n",
        "    f.write(\"[\")\n",
        "    for line in racing_track_everything:\n",
        "        f.write(\"%s\" % line)\n",
        "        if line != racing_track_everything[-1]:\n",
        "            f.write(\",\\n\")\n",
        "    f.write(\"]\")"
      ]
    },
    {
      "cell_type": "markdown",
      "metadata": {
        "id": "ZEjUgqhoF9dN"
      },
      "source": [
        "## Part 2: Calculate Optimal Action Space"
      ]
    },
    {
      "cell_type": "code",
      "execution_count": null,
      "metadata": {
        "id": "9YFKbfR2F9dN"
      },
      "outputs": [],
      "source": [
        "# Calculate the radius for every point of the racing_track\n",
        "radius = []\n",
        "for i in range(len(racing_track)):\n",
        "    indexes = circle_indexes(racing_track, i, add_index_1=-1, add_index_2=1) # CHANGE BACK? 1;2\n",
        "    coords = [racing_track[indexes[0]],\n",
        "              racing_track[indexes[1]], racing_track[indexes[2]]]\n",
        "    radius.append(circle_radius(coords))\n",
        "\n",
        "# Calculate curve direction\n",
        "left_curve = []\n",
        "for i in range(len(racing_track)):\n",
        "    indexes = circle_indexes(racing_track, i, add_index_1=-1, add_index_2=1)\n",
        "    coords = [racing_track[indexes[1]],\n",
        "              racing_track[indexes[0]], racing_track[indexes[2]]]\n",
        "    left_curve.append(is_left_curve(coords))\n",
        "\n",
        "# Calculate radius with + and - for direction (+ is left, - is right)\n",
        "radius_direction = []\n",
        "for i in range(len(racing_track)):\n",
        "    radius_with_direction = radius[i]\n",
        "    if left_curve[i] == False:\n",
        "        radius_with_direction *= -1\n",
        "    radius_direction.append(radius_with_direction)\n",
        "\n",
        "# Calculate steering with + and -\n",
        "dist_wheels_front_back = 0.165 # meters\n",
        "steering = []\n",
        "for i in range(len(racing_track)):\n",
        "    steer = math.degrees(math.asin(dist_wheels_front_back/radius_direction[i]))\n",
        "    steering.append(steer)\n",
        "\n",
        "# Merge relevant lists into dataframe\n",
        "all_actions = pd.DataFrame({\"velocity\":velocity,\n",
        "                            \"steering\":steering})"
      ]
    },
    {
      "cell_type": "code",
      "execution_count": null,
      "metadata": {
        "id": "Dn7Cs-4VF9dN"
      },
      "outputs": [],
      "source": [
        "min(radius)"
      ]
    },
    {
      "cell_type": "code",
      "execution_count": null,
      "metadata": {
        "id": "Gx_HsX3RF9dO"
      },
      "outputs": [],
      "source": [
        "# Visualize action space\n",
        "ax = sns.scatterplot(data=all_actions, x=\"steering\", y=\"velocity\")\n",
        "ax.invert_xaxis()\n",
        "ax.set_title(f\"With lookahead: {LOOK_AHEAD_POINTS}\")"
      ]
    },
    {
      "cell_type": "code",
      "execution_count": null,
      "metadata": {
        "id": "JWFC1GVYF9dO"
      },
      "outputs": [],
      "source": [
        "# Visualize all actions\n",
        "plt.figure(figsize=(10, 5))\n",
        "sns.lineplot(data=all_actions[\"velocity\"], color=\"r\")\n",
        "ax2 = plt.twinx()\n",
        "sns.lineplot(data=all_actions[\"steering\"], color=\"g\", ax=ax2)\n",
        "plt.axhline(0, ls='--', color=\"g\")\n",
        "a = plt.title(\"Speed (red), Steering (green; positive=left)\")"
      ]
    },
    {
      "cell_type": "markdown",
      "metadata": {
        "id": "3Uca3yglF9dP"
      },
      "source": [
        "#### Calculate Action Space with K-Means and Resampling each point with normal distribution"
      ]
    },
    {
      "cell_type": "code",
      "execution_count": null,
      "metadata": {
        "id": "zodXr2TfF9dP"
      },
      "outputs": [],
      "source": [
        "# Steering: Find standard deviation so that probability of >10 degrees steering is 5%\n",
        "steering_sd = -15 / stats.norm.ppf(0.05)\n",
        "steering_sd\n",
        "sns.distplot(np.random.normal(0,steering_sd,10000))"
      ]
    },
    {
      "cell_type": "code",
      "execution_count": null,
      "metadata": {
        "id": "LoXERzC8F9dP"
      },
      "outputs": [],
      "source": [
        "# Velocity: Find standard deviation so that probability of >0.25m/s deviation is 0%\n",
        "# Note: Here, probability is set to 0%, so no noise regarding velocity\n",
        "velocity_sd = -0.25 / stats.norm.ppf(0.00)\n",
        "velocity_sd\n",
        "sns.distplot(np.random.normal(0,velocity_sd,10000))"
      ]
    },
    {
      "cell_type": "code",
      "execution_count": null,
      "metadata": {
        "id": "7rl3TEfFF9dQ"
      },
      "outputs": [],
      "source": [
        "all_actions_norm = all_actions.copy()\n",
        "\n",
        "all_actions_norm_len = len(all_actions_norm)\n",
        "resample_size = 1000\n",
        "\n",
        "# Add gaussian noise to action space\n",
        "for i in range(all_actions_norm_len):\n",
        "    v_true = all_actions_norm.iloc[i][\"velocity\"]\n",
        "    s_true = all_actions_norm.iloc[i][\"steering\"]\n",
        "    v_norm = np.random.normal(loc=v_true, scale=velocity_sd, size=resample_size)\n",
        "    s_norm = np.random.normal(loc=s_true, scale=steering_sd, size=resample_size)\n",
        "    vs_norm = pd.DataFrame(np.column_stack([v_norm,s_norm]), columns=[\"velocity\",\"steering\"])\n",
        "    all_actions_norm = pd.concat([all_actions_norm,vs_norm], axis=0, ignore_index=True)\n",
        "\n",
        "# Take out actions with max speed, so that they are not affected by gaussian noise\n",
        "# We do this because there are disproportionally many points with max speed, so\n",
        "# K-Means will focus too much on these\n",
        "all_actions_norm = all_actions_norm[all_actions_norm[\"velocity\"] < MAX_SPEED]\n",
        "\n",
        "# Add initial actions to action space (to make clustering more focused on initial actions)\n",
        "add_n_initial_actions = int(resample_size / 8)\n",
        "add_initial_actions = pd.DataFrame()\n",
        "for i in range(add_n_initial_actions):\n",
        "    add_initial_actions = pd.concat([add_initial_actions,all_actions], axis=0, ignore_index=True)\n",
        "all_actions_norm = pd.concat([all_actions_norm,add_initial_actions], axis=0, ignore_index=True)\n",
        "\n",
        "\n",
        "# Display actions shape\n",
        "all_actions_norm.shape"
      ]
    },
    {
      "cell_type": "code",
      "source": [
        "all_actions_norm_less = all_actions_norm.sample(frac=0.01).reset_index(drop=True) # sample bc less compute time\n",
        "ax = sns.kdeplot(data=all_actions_norm_less, x=\"steering\", y = \"velocity\")\n",
        "ax.invert_xaxis()"
      ],
      "metadata": {
        "id": "R2UC23rnKQik"
      },
      "execution_count": null,
      "outputs": []
    },
    {
      "cell_type": "code",
      "execution_count": null,
      "metadata": {
        "id": "S0gdCMPpF9dR"
      },
      "outputs": [],
      "source": [
        "X = all_actions_norm\n",
        "\n",
        "# Calculate action space with KMeans\n",
        "\n",
        "from sklearn.preprocessing import MinMaxScaler\n",
        "from sklearn.cluster import MiniBatchKMeans\n",
        "\n",
        "# Rescale data with minmax\n",
        "minmax_scaler = MinMaxScaler()\n",
        "X_minmax = pd.DataFrame(minmax_scaler.fit_transform(X),\n",
        "                                           columns=[\"velocity\",\"steering\"])\n",
        "\n",
        "# KMeans\n",
        "# remove 2 actions from KMeans so that low speed & high steering actions can be manually included\n",
        "n_clusters = 21-2\n",
        "model = MiniBatchKMeans(n_clusters=n_clusters).fit(X_minmax)\n",
        "\n",
        "# Centroids (interpretable)\n",
        "from sklearn.preprocessing import MinMaxScaler\n",
        "minmax_scaler = MinMaxScaler()\n",
        "X_minmax_fit = minmax_scaler.fit(X)\n",
        "X_centroids = pd.DataFrame(X_minmax_fit.inverse_transform(model.cluster_centers_),\n",
        "                                   columns=[\"velocity\",\"steering\"])\n",
        "\n",
        "# Add 2 manual actions\n",
        "# Reason: When car starts new episode, it does not start on or direction of racing line, so\n",
        "# it cannot steer enough to get on racing line\n",
        "manual_actions = pd.DataFrame({\"velocity\":[MIN_SPEED,MIN_SPEED],\"steering\":[30,-30]})\n",
        "X_centroids = pd.concat([X_centroids,manual_actions], ignore_index=True)\n",
        "\n",
        "action_space_e = X_centroids.copy()"
      ]
    },
    {
      "cell_type": "code",
      "execution_count": null,
      "metadata": {
        "id": "1_tzEWv6F9dR"
      },
      "outputs": [],
      "source": [
        "ax = sns.scatterplot(data=all_actions, x=\"steering\", y=\"velocity\", alpha=.1)\n",
        "ax = sns.scatterplot(data=action_space_e, x=\"steering\", y=\"velocity\")\n",
        "ax.invert_xaxis()"
      ]
    },
    {
      "cell_type": "markdown",
      "metadata": {
        "id": "NgpJgHSHF9dR"
      },
      "source": [
        "*Note: Action space can be different every time it is computed because of randome resampling with gaussian noise and also because of the random seed with K-Means. Therefore, try out multiple iterations until you are happy with the result*"
      ]
    },
    {
      "cell_type": "markdown",
      "metadata": {
        "id": "-lp-0tC7F9dS"
      },
      "source": [
        "#### Output as JSON format"
      ]
    },
    {
      "cell_type": "code",
      "execution_count": null,
      "metadata": {
        "id": "alFgpp10F9dS"
      },
      "outputs": [],
      "source": [
        "# Output JSON format\n",
        "action_space_for_json = action_space_e[[\"steering\",\"velocity\"]].copy()\n",
        "\n",
        "action_space_for_json = action_space_for_json.round(4)\n",
        "action_space_for_json.columns = [\"steering_angle\",\"speed\"]\n",
        "action_space_for_json[\"index\"] = action_space_for_json.index\n",
        "json_text = action_space_for_json.to_json(orient=\"records\", lines=False)\n",
        "\n",
        "action_space_for_json"
      ]
    },
    {
      "cell_type": "code",
      "execution_count": null,
      "metadata": {
        "id": "xZ-oaScNF9dS"
      },
      "outputs": [],
      "source": [
        "with open(f'AS21_newest_{TRACK_NAME}.txt', 'w') as f:\n",
        "    f.write(json_text)"
      ]
    },
    {
      "cell_type": "markdown",
      "source": [
        "# [3] Print Results"
      ],
      "metadata": {
        "id": "7xeFvJlVPQyu"
      }
    },
    {
      "cell_type": "markdown",
      "source": [
        "- optimal [x, y, speed, steering(radian)]"
      ],
      "metadata": {
        "id": "A01L8vVAR8Vf"
      }
    },
    {
      "cell_type": "code",
      "source": [
        "with open(f'optimals_newest_{TRACK_NAME}.txt', 'r') as f:\n",
        "    file_contents = f.read()\n",
        "\n",
        "print(file_contents)\n"
      ],
      "metadata": {
        "id": "rMZePXa-PRR4"
      },
      "execution_count": null,
      "outputs": []
    },
    {
      "cell_type": "markdown",
      "source": [
        "- optimal action space (discrete)"
      ],
      "metadata": {
        "id": "uHpNGBpSR4fE"
      }
    },
    {
      "cell_type": "code",
      "source": [
        "import json\n",
        "\n",
        "with open(f'AS21_newest_{TRACK_NAME}.txt', 'r') as f:\n",
        "    file_contents = f.read()\n",
        "\n",
        "# JSON 형식의 문자열을 파이썬 객체로 변환\n",
        "data = json.loads(file_contents)\n",
        "\n",
        "# 개행으로 구분하여 객체 출력\n",
        "for i, obj in enumerate(data):\n",
        "    if i < len(data) - 1 :\n",
        "        print(json.dumps(obj)+',')\n",
        "    else :\n",
        "        print(json.dumps(obj))\n"
      ],
      "metadata": {
        "id": "F8gID0hMPWvN"
      },
      "execution_count": null,
      "outputs": []
    },
    {
      "cell_type": "code",
      "source": [
        "waypoints2_str = \"waypoints2 = [\"\n",
        "for x, y in [i[:2] for i in racing_track_everything] :\n",
        "    waypoints2_str += f\"\\n  [{x}, {y}],\"\n",
        "\n",
        "x, y = racing_track_everything[0][:2]\n",
        "waypoints2_str += f\"\\n  [{x}, {y}]\"\n",
        "waypoints2_str += f\"\\n]\"\n",
        "\n",
        "print(waypoints2_str)"
      ],
      "metadata": {
        "id": "eroSE4c6nExR"
      },
      "execution_count": null,
      "outputs": []
    }
  ],
  "metadata": {
    "kernelspec": {
      "display_name": "Python 3",
      "language": "python",
      "name": "python3"
    },
    "language_info": {
      "codemirror_mode": {
        "name": "ipython",
        "version": 3
      },
      "file_extension": ".py",
      "mimetype": "text/x-python",
      "name": "python",
      "nbconvert_exporter": "python",
      "pygments_lexer": "ipython3",
      "version": "3.7.7"
    },
    "colab": {
      "provenance": [],
      "toc_visible": true
    }
  },
  "nbformat": 4,
  "nbformat_minor": 0
}